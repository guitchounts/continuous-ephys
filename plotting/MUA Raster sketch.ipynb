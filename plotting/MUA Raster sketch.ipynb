{
 "cells": [
  {
   "cell_type": "code",
   "execution_count": 187,
   "metadata": {
    "collapsed": false
   },
   "outputs": [],
   "source": [
    "import numpy as np\n",
    "import os\n",
    "from scipy import signal\n",
    "#from sp import multirate"
   ]
  },
  {
   "cell_type": "code",
   "execution_count": 238,
   "metadata": {
    "collapsed": false
   },
   "outputs": [],
   "source": [
    "# some variables that might be passed to this function or just declared globally:\n",
    "EPHYS = {};\n",
    "EPHYS['data'] =  np.random.rand(10000,10,16);\n",
    "EPHYS['labels'] = range(16);\n",
    "winsigma=.0025;\n",
    "noise='none';\n",
    "car_exclude= [];\n",
    "savedir=os.getcwd();\n",
    "min_f=1;\n",
    "max_f=10e3;\n",
    "hist_colors='jet';\n",
    "mua_colors='hot';\n",
    "figtitle='';\n",
    "freq_range=[500, 4.5e3];\n",
    "proc_fs=10e3;\n",
    "downsampling=2;\n",
    "channels=range(16);\n",
    "hampel=6;\n",
    "attenuation=40;\n",
    "ripple=0.2;\n",
    "car_trim=40;\n",
    "fs = 30e3;\n",
    "    #some stuff"
   ]
  },
  {
   "cell_type": "code",
   "execution_count": 278,
   "metadata": {
    "collapsed": false
   },
   "outputs": [],
   "source": [
    "import h5py\n",
    "test_file = '/Users/Guitchounts/Dropbox (coxlab)/Ephys/Data/grat09/2015-10-05_11-57-24/experiment10_b/fxd_experiment10_100.raw.kwd'\n",
    "input_h5file = h5py.File(test_file,'a')\n",
    "data = np.double(input_h5file['/recordings/0/data'])\n",
    "\n",
    "# shape should be (270000, 100,16) - samples x trials x channels \n",
    "\n",
    "data = data.reshape(((27000000/100,16,100))); # reshape from [samples x channels] to make 100 trials\n",
    "data = data.transpose(0,2,1)\n"
   ]
  },
  {
   "cell_type": "code",
   "execution_count": null,
   "metadata": {
    "collapsed": false
   },
   "outputs": [],
   "source": []
  },
  {
   "cell_type": "code",
   "execution_count": null,
   "metadata": {
    "collapsed": false
   },
   "outputs": [],
   "source": []
  },
  {
   "cell_type": "code",
   "execution_count": 433,
   "metadata": {
    "collapsed": false
   },
   "outputs": [],
   "source": [
    "from scipy.stats import tmean, scoreatpercentile\n",
    "def trimmean(arr, percent):\n",
    "    # tmean should be avg across channels on a given trial. shape = [nsamples x ntrials]'\n",
    "    lower_limit = scoreatpercentile(arr, percent/2)\n",
    "    upper_limit = scoreatpercentile(arr, 100-percent/2)\n",
    "    return tmean(arr, limits=(lower_limit, upper_limit), inclusive=(False, False))"
   ]
  },
  {
   "cell_type": "code",
   "execution_count": 397,
   "metadata": {
    "collapsed": false
   },
   "outputs": [],
   "source": [
    "def ephys_denoise_signal(data,chin,chout=[],method='none',car_exclude=[],car_trim=40):\n",
    "    # Do you want to remove some channels from the analysis? Do you want to do CAR?\n",
    "    CAR = [];\n",
    "    if not chout: chout = chin;\n",
    "    \n",
    "    if car_exclude:\n",
    "        car_electrodes = list(set(chin) - set(car_exclude))\n",
    "        print 'Exluding channels %d from CAR' % car_electrodes\n",
    "        print car_electrodes\n",
    "    else:\n",
    "        print 'Using all channels for CAR'\n",
    "        car_electrodes = chin;\n",
    "    \n",
    "    [samples,ntrials,nchannels] = data.shape;\n",
    "    \n",
    "    if method == 'car':\n",
    "        #trimmed mean to avoid artifacts and spikes:\n",
    "        print 'Using electrodes ' + str(car_electrodes) + ' for CAR';\n",
    "        print 'Trimmed mean prctile ' +  str(car_trim);\n",
    "        \n",
    "        CAR = np.empty(EPHYS['data'].shape)\n",
    "        \n",
    "        \n",
    "        for elec in car_electrodes:         \n",
    "            CAR[:,:,elec] = trimmean(data[:,:,car_electrodes],car_trim)\n",
    "        \n",
    "            data[:,:,elec] = data[:,:,elec] - CAR[:,:,elec];\n",
    "        \n",
    "    elif method == 'cmr': # common median reference ? \n",
    "        # other stuff\n",
    "        pass\n",
    "    \n",
    "    \n",
    "    return data, CAR"
   ]
  },
  {
   "cell_type": "code",
   "execution_count": 462,
   "metadata": {
    "collapsed": false
   },
   "outputs": [
    {
     "data": {
      "text/plain": [
       "(10000, 10, 16)"
      ]
     },
     "execution_count": 462,
     "metadata": {},
     "output_type": "execute_result"
    }
   ],
   "source": [
    "# test data set\n",
    "x = data[0:10000,0:10,:]\n",
    "x.shape"
   ]
  },
  {
   "cell_type": "code",
   "execution_count": 445,
   "metadata": {
    "collapsed": false
   },
   "outputs": [
    {
     "data": {
      "text/plain": [
       "(1000, 100)"
      ]
     },
     "execution_count": 445,
     "metadata": {},
     "output_type": "execute_result"
    }
   ],
   "source": []
  },
  {
   "cell_type": "code",
   "execution_count": 463,
   "metadata": {
    "collapsed": false,
    "scrolled": false
   },
   "outputs": [
    {
     "data": {
      "text/plain": [
       "31.807186999999885"
      ]
     },
     "execution_count": 463,
     "metadata": {},
     "output_type": "execute_result"
    }
   ],
   "source": [
    "tic = time.clock()\n",
    "[nsamples,ntrials,nchannels] = x.shape;\n",
    "trim_x = np.empty([nsamples,ntrials])\n",
    "#for sample in range(nsamples):\n",
    "#    for trial in range(ntrials):\n",
    "#        trim_x[sample,trial] = trimmean(x,40)\n",
    "\n",
    "np.apply_along_axis(trimmean, 2, x,40)\n",
    "\n",
    "toc = time.clock()\n",
    "toc - tic  \n",
    "#trim_x = [trimmean(x[:,trial,ch],40) for ch in range(16),trial in range(100)]\n",
    "#trim_x.shape"
   ]
  },
  {
   "cell_type": "code",
   "execution_count": 449,
   "metadata": {
    "collapsed": false
   },
   "outputs": [
    {
     "data": {
      "text/plain": [
       "(100, 10)"
      ]
     },
     "execution_count": 449,
     "metadata": {},
     "output_type": "execute_result"
    }
   ],
   "source": [
    "trim_x.shape"
   ]
  },
  {
   "cell_type": "code",
   "execution_count": 380,
   "metadata": {
    "collapsed": true
   },
   "outputs": [],
   "source": [
    "def serial(arr, percent):\n",
    "    #return [parzen_estimation(samples, x, w) for w in widths]\n",
    "    return [trimmean(arr[:,:,elec],percent) for elec in range(16)] # replace range w/ car_electrodes\n"
   ]
  },
  {
   "cell_type": "code",
   "execution_count": 381,
   "metadata": {
    "collapsed": false
   },
   "outputs": [
    {
     "data": {
      "text/plain": [
       "[38.068137475611586,\n",
       " 37.339323520096023,\n",
       " 36.11345259332122,\n",
       " 35.667828145579435,\n",
       " 38.710457865074865,\n",
       " 37.908651441906983,\n",
       " 36.369256683510947,\n",
       " 37.273459383753504,\n",
       " 43.013160089401872,\n",
       " 42.41692507752326,\n",
       " 39.915691999666308,\n",
       " 38.027841685839086,\n",
       " 41.505768397185825,\n",
       " 39.51065390643236,\n",
       " 37.417029438745729,\n",
       " 38.067957441131348]"
      ]
     },
     "execution_count": 381,
     "metadata": {},
     "output_type": "execute_result"
    }
   ],
   "source": [
    "tic= time.clock()\n",
    "result = serial(x,40)\n",
    "toc = time.clock()\n",
    "toc- tic\n",
    "result"
   ]
  },
  {
   "cell_type": "code",
   "execution_count": null,
   "metadata": {
    "collapsed": true
   },
   "outputs": [],
   "source": [
    "def multiprocess(processes, arr, percent):\n",
    "    pool = mp.Pool(processes=processes)\n",
    "    results = [pool.apply_async(trimmean, args=(samples, x, w)) for w in widths]\n",
    "    results = [p.get() for p in results]\n",
    "    results.sort() # to sort the results by input window width\n",
    "    return results"
   ]
  },
  {
   "cell_type": "code",
   "execution_count": 345,
   "metadata": {
    "collapsed": false
   },
   "outputs": [
    {
     "name": "stdout",
     "output_type": "stream",
     "text": [
      "Using all channels for CAR\n",
      "Using electrodes [0, 1, 2, 3, 4, 5, 6, 7, 8, 9, 10, 11, 12, 13, 14, 15] for CAR\n",
      "Trimmed mean prctile 40\n"
     ]
    },
    {
     "ename": "SystemError",
     "evalue": "NULL result without error in PyObject_Call",
     "output_type": "error",
     "traceback": [
      "\u001b[0;31m---------------------------------------------------------------------------\u001b[0m",
      "\u001b[0;31mSystemError\u001b[0m                               Traceback (most recent call last)",
      "\u001b[0;32m<ipython-input-345-b1464593bb35>\u001b[0m in \u001b[0;36m<module>\u001b[0;34m()\u001b[0m\n\u001b[1;32m      1\u001b[0m \u001b[0mtic\u001b[0m \u001b[0;34m=\u001b[0m \u001b[0mtime\u001b[0m\u001b[0;34m.\u001b[0m\u001b[0mclock\u001b[0m\u001b[0;34m(\u001b[0m\u001b[0;34m)\u001b[0m\u001b[0;34m\u001b[0m\u001b[0m\n\u001b[0;32m----> 2\u001b[0;31m \u001b[0mdata\u001b[0m\u001b[0;34m,\u001b[0m\u001b[0mCAR\u001b[0m \u001b[0;34m=\u001b[0m \u001b[0mephys_denoise_signal\u001b[0m\u001b[0;34m(\u001b[0m\u001b[0mdata\u001b[0m\u001b[0;34m,\u001b[0m\u001b[0mEPHYS\u001b[0m\u001b[0;34m[\u001b[0m\u001b[0;34m'labels'\u001b[0m\u001b[0;34m]\u001b[0m\u001b[0;34m,\u001b[0m\u001b[0;34m[\u001b[0m\u001b[0;34m]\u001b[0m\u001b[0;34m,\u001b[0m\u001b[0;34m'car'\u001b[0m\u001b[0;34m)\u001b[0m\u001b[0;34m\u001b[0m\u001b[0m\n\u001b[0m\u001b[1;32m      3\u001b[0m \u001b[0mtoc\u001b[0m \u001b[0;34m=\u001b[0m \u001b[0mtime\u001b[0m\u001b[0;34m.\u001b[0m\u001b[0mclock\u001b[0m\u001b[0;34m(\u001b[0m\u001b[0;34m)\u001b[0m\u001b[0;34m\u001b[0m\u001b[0m\n\u001b[1;32m      4\u001b[0m \u001b[0mtoc\u001b[0m \u001b[0;34m-\u001b[0m \u001b[0mtic\u001b[0m\u001b[0;34m\u001b[0m\u001b[0m\n",
      "\u001b[0;32m<ipython-input-344-74871db4bb1d>\u001b[0m in \u001b[0;36mephys_denoise_signal\u001b[0;34m(data, chin, chout, method, car_exclude, car_trim)\u001b[0m\n\u001b[1;32m     36\u001b[0m \u001b[0;34m\u001b[0m\u001b[0m\n\u001b[1;32m     37\u001b[0m \u001b[0;34m\u001b[0m\u001b[0m\n\u001b[0;32m---> 38\u001b[0;31m             \u001b[0mCAR\u001b[0m\u001b[0;34m[\u001b[0m\u001b[0;34m:\u001b[0m\u001b[0;34m,\u001b[0m\u001b[0;34m:\u001b[0m\u001b[0;34m,\u001b[0m\u001b[0melec\u001b[0m\u001b[0;34m]\u001b[0m \u001b[0;34m=\u001b[0m \u001b[0mmultiprocess\u001b[0m\u001b[0;34m(\u001b[0m\u001b[0;36m4\u001b[0m\u001b[0;34m,\u001b[0m\u001b[0mdata\u001b[0m\u001b[0;34m[\u001b[0m\u001b[0;34m:\u001b[0m\u001b[0;34m,\u001b[0m\u001b[0;34m:\u001b[0m\u001b[0;34m,\u001b[0m\u001b[0mcar_electrodes\u001b[0m\u001b[0;34m]\u001b[0m\u001b[0;34m,\u001b[0m\u001b[0mcar_trim\u001b[0m\u001b[0;34m)\u001b[0m\u001b[0;34m\u001b[0m\u001b[0m\n\u001b[0m\u001b[1;32m     39\u001b[0m \u001b[0;34m\u001b[0m\u001b[0m\n\u001b[1;32m     40\u001b[0m \u001b[0;34m\u001b[0m\u001b[0m\n",
      "\u001b[0;32m<ipython-input-344-74871db4bb1d>\u001b[0m in \u001b[0;36mmultiprocess\u001b[0;34m(processes, arr, percent)\u001b[0m\n\u001b[1;32m     26\u001b[0m                 \u001b[0mresults\u001b[0m \u001b[0;34m=\u001b[0m \u001b[0mnp\u001b[0m\u001b[0;34m.\u001b[0m\u001b[0mempty\u001b[0m\u001b[0;34m(\u001b[0m\u001b[0mEPHYS\u001b[0m\u001b[0;34m[\u001b[0m\u001b[0;34m'data'\u001b[0m\u001b[0;34m]\u001b[0m\u001b[0;34m.\u001b[0m\u001b[0mshape\u001b[0m\u001b[0;34m)\u001b[0m\u001b[0;34m\u001b[0m\u001b[0m\n\u001b[1;32m     27\u001b[0m                 \u001b[0mresults\u001b[0m \u001b[0;34m=\u001b[0m \u001b[0;34m[\u001b[0m\u001b[0mpool\u001b[0m\u001b[0;34m.\u001b[0m\u001b[0mapply_async\u001b[0m\u001b[0;34m(\u001b[0m\u001b[0mtrimmean\u001b[0m\u001b[0;34m,\u001b[0m \u001b[0margs\u001b[0m\u001b[0;34m=\u001b[0m\u001b[0;34m(\u001b[0m\u001b[0marr\u001b[0m\u001b[0;34m,\u001b[0m \u001b[0mpercent\u001b[0m\u001b[0;34m)\u001b[0m\u001b[0;34m)\u001b[0m\u001b[0;34m]\u001b[0m\u001b[0;34m\u001b[0m\u001b[0m\n\u001b[0;32m---> 28\u001b[0;31m                 \u001b[0mresults\u001b[0m \u001b[0;34m=\u001b[0m \u001b[0;34m[\u001b[0m\u001b[0mp\u001b[0m\u001b[0;34m.\u001b[0m\u001b[0mget\u001b[0m\u001b[0;34m(\u001b[0m\u001b[0;34m)\u001b[0m \u001b[0;32mfor\u001b[0m \u001b[0mp\u001b[0m \u001b[0;32min\u001b[0m \u001b[0mresults\u001b[0m\u001b[0;34m]\u001b[0m\u001b[0;34m\u001b[0m\u001b[0m\n\u001b[0m\u001b[1;32m     29\u001b[0m                 \u001b[0mresults\u001b[0m\u001b[0;34m.\u001b[0m\u001b[0msort\u001b[0m\u001b[0;34m(\u001b[0m\u001b[0;34m)\u001b[0m \u001b[0;31m# to sort the results by input window width\u001b[0m\u001b[0;34m\u001b[0m\u001b[0m\n\u001b[1;32m     30\u001b[0m                 \u001b[0;32mreturn\u001b[0m \u001b[0mresults\u001b[0m\u001b[0;34m\u001b[0m\u001b[0m\n",
      "\u001b[0;32m/Users/Guitchounts/anaconda/lib/python2.7/multiprocessing/pool.pyc\u001b[0m in \u001b[0;36mget\u001b[0;34m(self, timeout)\u001b[0m\n\u001b[1;32m    565\u001b[0m             \u001b[0;32mreturn\u001b[0m \u001b[0mself\u001b[0m\u001b[0;34m.\u001b[0m\u001b[0m_value\u001b[0m\u001b[0;34m\u001b[0m\u001b[0m\n\u001b[1;32m    566\u001b[0m         \u001b[0;32melse\u001b[0m\u001b[0;34m:\u001b[0m\u001b[0;34m\u001b[0m\u001b[0m\n\u001b[0;32m--> 567\u001b[0;31m             \u001b[0;32mraise\u001b[0m \u001b[0mself\u001b[0m\u001b[0;34m.\u001b[0m\u001b[0m_value\u001b[0m\u001b[0;34m\u001b[0m\u001b[0m\n\u001b[0m\u001b[1;32m    568\u001b[0m \u001b[0;34m\u001b[0m\u001b[0m\n\u001b[1;32m    569\u001b[0m     \u001b[0;32mdef\u001b[0m \u001b[0m_set\u001b[0m\u001b[0;34m(\u001b[0m\u001b[0mself\u001b[0m\u001b[0;34m,\u001b[0m \u001b[0mi\u001b[0m\u001b[0;34m,\u001b[0m \u001b[0mobj\u001b[0m\u001b[0;34m)\u001b[0m\u001b[0;34m:\u001b[0m\u001b[0;34m\u001b[0m\u001b[0m\n",
      "\u001b[0;31mSystemError\u001b[0m: NULL result without error in PyObject_Call"
     ]
    }
   ],
   "source": [
    "tic = time.clock()\n",
    "data,CAR = ephys_denoise_signal(data,EPHYS['labels'],[],'car')\n",
    "toc = time.clock()\n",
    "toc - tic"
   ]
  },
  {
   "cell_type": "code",
   "execution_count": 335,
   "metadata": {
    "collapsed": false
   },
   "outputs": [],
   "source": [
    "import multiprocessing as mp\n",
    "import time\n",
    "\n",
    "\n",
    "\n",
    "def cube(x,y):\n",
    "    return np.mean(x) +y\n"
   ]
  },
  {
   "cell_type": "code",
   "execution_count": 330,
   "metadata": {
    "collapsed": false
   },
   "outputs": [],
   "source": [
    "def serial(x, y):\n",
    "    return [cube(x, y)]\n",
    "\n",
    "def multiprocess(processes, x, y):\n",
    "    pool = mp.Pool(processes=processes)\n",
    "    results = [pool.apply_async(cube, args=(x, y))]\n",
    "    results = [p.get() for p in results]\n",
    "    results.sort() # to sort the results by input window width\n",
    "    return results"
   ]
  },
  {
   "cell_type": "code",
   "execution_count": 336,
   "metadata": {
    "collapsed": false
   },
   "outputs": [
    {
     "data": {
      "text/plain": [
       "[7.5]"
      ]
     },
     "execution_count": 336,
     "metadata": {},
     "output_type": "execute_result"
    }
   ],
   "source": [
    "results = multiprocess(4, range(10),3)\n",
    "results"
   ]
  },
  {
   "cell_type": "code",
   "execution_count": 337,
   "metadata": {
    "collapsed": false
   },
   "outputs": [
    {
     "data": {
      "text/plain": [
       "[7.5]"
      ]
     },
     "execution_count": 337,
     "metadata": {},
     "output_type": "execute_result"
    }
   ],
   "source": [
    "xxx = serial(range(10),3)\n",
    "xxx"
   ]
  },
  {
   "cell_type": "code",
   "execution_count": 328,
   "metadata": {
    "collapsed": false
   },
   "outputs": [
    {
     "data": {
      "text/plain": [
       "7.0"
      ]
     },
     "execution_count": 328,
     "metadata": {},
     "output_type": "execute_result"
    }
   ],
   "source": []
  },
  {
   "cell_type": "code",
   "execution_count": null,
   "metadata": {
    "collapsed": true
   },
   "outputs": [],
   "source": []
  },
  {
   "cell_type": "code",
   "execution_count": null,
   "metadata": {
    "collapsed": true
   },
   "outputs": [],
   "source": []
  },
  {
   "cell_type": "code",
   "execution_count": 241,
   "metadata": {
    "collapsed": false
   },
   "outputs": [],
   "source": [
    "def ephys_condition_signal(data,freq_range=[500, 5e3],filt_name='b'):    \n",
    "    medfilt_scale=[]; # median filter scale (in ms)\n",
    "    filt_order=2;   \n",
    "    filt_name='e'; # default to Butterworth, use a Kaiser filter if we need sharp cutoffs, per Logothetis et al. 2001\n",
    "    ripple=.2; # Kaiser params, ripple in dB (linear in ellip)\n",
    "    attenuation=40; # Kaiser params, attenuation (linear, dB in ellip)\n",
    "    decomp_level=7;\n",
    "    filt_type='bandpass';\n",
    "    winsigma=.0025; # winsigma for Gaussian smoothing kernel (in s)\n",
    "\n",
    "    \n",
    "    [nsamples,ntrials,nchannels]=data.shape;\n",
    "    \n",
    "        \n",
    "        \n",
    "    # filtering:\n",
    "    if filt_name == 'b': # Butterworth:\n",
    "        print 'Butterworth Filter...'\n",
    "        \n",
    "        b,a= signal.butter(filt_order,[freq_range]/(fs/2),filt_type);\n",
    "       #  b, a = signal.butter(4, 100, 'low', analog=True)\n",
    "        \n",
    "    elif filt_name == 'e': # Elliptical filter\n",
    "        pass\n",
    "        \n",
    "    elif filt_name == 'k': # Kaiser\n",
    "        pass\n",
    "    elif filt_name == 'w': # Wavelet...\n",
    "        pass\n",
    "    else:\n",
    "        print 'Please select an appropriate filter name'\n",
    "        \n",
    "    # rectify:\n",
    "    print 'Rectifying Data...'\n",
    "    data = data ** 2\n",
    "    \n",
    "    \n",
    "    # smooth:\n",
    "    print 'Smoothing data with Gaussian kernel. winsigma = ' + str(winsigma)\n",
    "    \n",
    "    edges = np.arange(-3*winsigma, 3*winsigma + 1/fs, 1/fs) # adding one 1/fs to get one more element (451 instead of 450)\n",
    "    kernel=(1/(winsigma*np.sqrt(2*np.pi)))*np.exp((-edges**2)/(2*winsigma**2));\n",
    "\n",
    "    kernel=kernel/sum(kernel); # normalize to sum to 1\n",
    "\n",
    "    for ch in range(nchannels):\n",
    "        for trial in range(ntrials):\n",
    "            data[:,trial,ch] = np.convolve(data[:,trial,ch],kernel,'same');\n",
    "\n",
    "    \n",
    "    return data"
   ]
  },
  {
   "cell_type": "code",
   "execution_count": 242,
   "metadata": {
    "collapsed": false
   },
   "outputs": [
    {
     "name": "stdout",
     "output_type": "stream",
     "text": [
      "Rectifying Data...\n",
      "Smoothing data with Gaussian kernel. winsigma = 0.0025\n"
     ]
    }
   ],
   "source": [
    "data = ephys_condition_signal(EPHYS['data'])"
   ]
  },
  {
   "cell_type": "code",
   "execution_count": 230,
   "metadata": {
    "collapsed": false
   },
   "outputs": [
    {
     "data": {
      "text/plain": [
       "7.7715611723760958e-16"
      ]
     },
     "execution_count": 230,
     "metadata": {},
     "output_type": "execute_result"
    }
   ],
   "source": []
  },
  {
   "cell_type": "code",
   "execution_count": 31,
   "metadata": {
    "collapsed": false
   },
   "outputs": [
    {
     "name": "stdout",
     "output_type": "stream",
     "text": [
      "Anti-alias filtering and downsampling\n",
      "Downsampling to 10000.0\n"
     ]
    },
    {
     "ename": "TypeError",
     "evalue": "'NoneType' object has no attribute '__getitem__'",
     "output_type": "error",
     "traceback": [
      "\u001b[0;31m---------------------------------------------------------------------------\u001b[0m",
      "\u001b[0;31mTypeError\u001b[0m                                 Traceback (most recent call last)",
      "\u001b[0;32m<ipython-input-31-668a4fe7372c>\u001b[0m in \u001b[0;36m<module>\u001b[0;34m()\u001b[0m\n\u001b[1;32m     24\u001b[0m \u001b[0;34m\u001b[0m\u001b[0m\n\u001b[1;32m     25\u001b[0m \u001b[0;32mprint\u001b[0m \u001b[0;34m'Downsampling to '\u001b[0m \u001b[0;34m+\u001b[0m \u001b[0mstr\u001b[0m\u001b[0;34m(\u001b[0m\u001b[0mproc_fs\u001b[0m\u001b[0;34m)\u001b[0m\u001b[0;34m;\u001b[0m\u001b[0;34m\u001b[0m\u001b[0m\n\u001b[0;32m---> 26\u001b[0;31m \u001b[0mproc_data\u001b[0m \u001b[0;34m=\u001b[0m \u001b[0mproc_data\u001b[0m\u001b[0;34m[\u001b[0m\u001b[0;36m0\u001b[0m\u001b[0;34m:\u001b[0m\u001b[0;34m:\u001b[0m\u001b[0mdownfact\u001b[0m\u001b[0;34m]\u001b[0m\u001b[0;34m;\u001b[0m \u001b[0;31m# figure out best way to do this!\u001b[0m\u001b[0;34m\u001b[0m\u001b[0m\n\u001b[0m\u001b[1;32m     27\u001b[0m \u001b[0;31m# why does proc_data get passed to ephys_condition_signal again? line 149. Make it a float32 (single) also\u001b[0m\u001b[0;34m\u001b[0m\u001b[0;34m\u001b[0m\u001b[0m\n\u001b[1;32m     28\u001b[0m \u001b[0;34m\u001b[0m\u001b[0m\n",
      "\u001b[0;31mTypeError\u001b[0m: 'NoneType' object has no attribute '__getitem__'"
     ]
    }
   ],
   "source": [
    "\n",
    "################################################################\n",
    "\n",
    "#################### SIGNAL CONDITIONING ################################\n",
    "\n",
    "downfact = fs / proc_fs;\n",
    "\n",
    "if downfact%1>0:\n",
    "\tprint 'Downsample factor must be integer'\n",
    "\t# should raise an error...\n",
    "\n",
    "\n",
    "proc_data = ephys_denoise_signal(EPHYS['data'],EPHYS['labels'],channels,noise,car_exclude, car_trim);\n",
    "\n",
    "print 'Anti-alias filtering and downsampling';\n",
    "\n",
    "\n",
    "proc_data = ephys_condition_signal(proc_data,[300, proc_fs/2]);\n",
    "\n",
    "print 'Downsampling to ' + str(proc_fs);\n",
    "proc_data = proc_data[0::downfact]; # figure out best way to do this!\n",
    "# why does proc_data get passed to ephys_condition_signal again? line 149. Make it a float32 (single) also\n",
    "\n",
    "\n",
    "\n",
    "\n",
    "[nsamples, ntrials,nchannels] = proc_data.shape # ? is proc_data an np array?\n",
    "TIME = range(nsamples)/ proc_fs;\n",
    "\n",
    "# \"if downsampling:\"\n",
    "print 'Downsampling by factor of ' + str(downfact);\n",
    "MUA = {};\n",
    "MUA['t'] = TIME[0::downsampling];\n",
    "MUA['image'] = np.zeros(shape=(ntrials,len(MUA['t']),len(channels)),dtype='float32')\n",
    "\n",
    "for i in range(nchannels): MUA['image'][:,:,i] = proc_data[0::downsampling,:,i]; # this was transposed in .m - why?\n",
    "\n",
    "MUA['channels'] = channels;\n",
    "MUA['trials'] = trials;\n",
    "\n",
    "################################################################################\n",
    "\n",
    "print 'Generating figures....';\n",
    "print 'Saving to directory ' + str(savedir);\n",
    "\n",
    "[path, name,ext] = os.path.split(savedir) # what is ext? need to get rid of it\n",
    "# or just get pwd and make mua folder there\n",
    "\n",
    "\n"
   ]
  },
  {
   "cell_type": "code",
   "execution_count": null,
   "metadata": {
    "collapsed": true
   },
   "outputs": [],
   "source": []
  }
 ],
 "metadata": {
  "kernelspec": {
   "display_name": "Python 2",
   "language": "python",
   "name": "python2"
  },
  "language_info": {
   "codemirror_mode": {
    "name": "ipython",
    "version": 2
   },
   "file_extension": ".py",
   "mimetype": "text/x-python",
   "name": "python",
   "nbconvert_exporter": "python",
   "pygments_lexer": "ipython2",
   "version": "2.7.10"
  }
 },
 "nbformat": 4,
 "nbformat_minor": 0
}
